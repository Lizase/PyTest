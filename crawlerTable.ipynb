{
 "cells": [
  {
   "cell_type": "code",
   "execution_count": 80,
   "metadata": {},
   "outputs": [],
   "source": [
    "from bs4 import BeautifulSoup\n",
    "import requests\n",
    "import bs4\n",
    "import unicodecsv as csv\n",
    "from\n",
    "url = \"https://anime1.me/\"\n",
    "unlist = []\n",
    "def get_contents():\n",
    "    soup = BeautifulSoup(requests.get(url).text, 'html5lib')\n",
    "    trs = soup('tr')\n",
    "    for tr in trs:\n",
    "        ui = []\n",
    "        \n",
    "        for td in tr:\n",
    "            ui.append(td.string)\n",
    "            \n",
    "        unlist.append(ui) \n",
    "    \n",
    "    \n",
    "def save_contents():\n",
    "    with open(\"C:/Users/User/Desktop/animates.csv\",'wb') as f:\n",
    "        writer = csv.writer(f, delimiter = ';', encoding = 'utf-8')\n",
    "        writer.writerow([\"2019 animates\"])\n",
    "        for i in range(len(unlist)):\n",
    "            writer.writerow(unlist[i])\n",
    "        \n",
    "def main():\n",
    "    get_contents()\n",
    "    save_contents()\n",
    "    \n",
    "main()    \n",
    "    \n",
    "\n"
   ]
  },
  {
   "cell_type": "raw",
   "metadata": {},
   "source": [
    "import pandas as pd\n",
    "animaTable = pd.DataFrame(unlist)\n",
    "animaTable"
   ]
  },
  {
   "cell_type": "markdown",
   "metadata": {},
   "source": []
  }
 ],
 "metadata": {
  "kernelspec": {
   "display_name": "Python 3",
   "language": "python",
   "name": "python3"
  },
  "language_info": {
   "codemirror_mode": {
    "name": "ipython",
    "version": 3
   },
   "file_extension": ".py",
   "mimetype": "text/x-python",
   "name": "python",
   "nbconvert_exporter": "python",
   "pygments_lexer": "ipython3",
   "version": "3.6.5"
  }
 },
 "nbformat": 4,
 "nbformat_minor": 2
}
